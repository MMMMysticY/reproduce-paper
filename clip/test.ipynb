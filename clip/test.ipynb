{
 "cells": [
  {
   "cell_type": "code",
   "execution_count": 9,
   "metadata": {
    "collapsed": true,
    "pycharm": {
     "name": "#%%\n"
    }
   },
   "outputs": [],
   "source": [
    "import torch\n",
    "from einops import rearrange"
   ]
  },
  {
   "cell_type": "code",
   "execution_count": 41,
   "outputs": [
    {
     "data": {
      "text/plain": "tensor([[[-0.1543, -1.2521,  1.0757,  0.2622],\n         [ 2.1931,  0.7439, -0.1593, -1.1349],\n         [-0.3910, -0.7182, -0.8423, -0.0105],\n         [ 2.2345,  1.2266,  0.6552,  0.2163]],\n\n        [[-0.4925,  0.1306, -1.3880, -0.4210],\n         [ 0.0689, -0.2506, -0.8133, -0.9010],\n         [ 0.2638,  0.2530, -0.1458, -0.3685],\n         [ 1.5330, -0.4969, -0.5336, -0.9903]]])"
     },
     "execution_count": 41,
     "metadata": {},
     "output_type": "execute_result"
    }
   ],
   "source": [
    "t = torch.randn((2, 4, 4))\n",
    "t"
   ],
   "metadata": {
    "collapsed": false,
    "pycharm": {
     "name": "#%%\n"
    }
   }
  },
  {
   "cell_type": "code",
   "execution_count": 49,
   "outputs": [
    {
     "data": {
      "text/plain": "tensor([[1, 1, 1, 0],\n        [1, 1, 0, 0]])"
     },
     "execution_count": 49,
     "metadata": {},
     "output_type": "execute_result"
    }
   ],
   "source": [
    "mask = torch.tensor([[1, 1, 1, 0],\n",
    "                     [1, 1, 0, 0]])\n",
    "mask"
   ],
   "metadata": {
    "collapsed": false,
    "pycharm": {
     "name": "#%%\n"
    }
   }
  },
  {
   "cell_type": "code",
   "execution_count": 59,
   "outputs": [
    {
     "data": {
      "text/plain": "tensor([[1, 1, 1, 0],\n        [1, 1, 1, 0],\n        [1, 1, 1, 0],\n        [0, 0, 0, 0]])"
     },
     "execution_count": 59,
     "metadata": {},
     "output_type": "execute_result"
    }
   ],
   "source": [
    "mask2 = torch.matmul(rearrange(mask[0], 'b -> b 1'), rearrange(mask[0], 'b -> 1 b'))\n",
    "mask2"
   ],
   "metadata": {
    "collapsed": false,
    "pycharm": {
     "name": "#%%\n"
    }
   }
  },
  {
   "cell_type": "code",
   "execution_count": 60,
   "outputs": [
    {
     "data": {
      "text/plain": "tensor([[1, 1, 0, 0],\n        [1, 1, 0, 0],\n        [0, 0, 0, 0],\n        [0, 0, 0, 0]])"
     },
     "execution_count": 60,
     "metadata": {},
     "output_type": "execute_result"
    }
   ],
   "source": [
    "mask3 = torch.matmul(rearrange(mask[1], 'b -> b 1'), rearrange(mask[1], 'b -> 1 b'))\n",
    "mask3"
   ],
   "metadata": {
    "collapsed": false,
    "pycharm": {
     "name": "#%%\n"
    }
   }
  },
  {
   "cell_type": "code",
   "execution_count": 70,
   "outputs": [],
   "source": [
    "new_mask = torch.cat([mask2, mask3], 0)"
   ],
   "metadata": {
    "collapsed": false,
    "pycharm": {
     "name": "#%%\n"
    }
   }
  },
  {
   "cell_type": "code",
   "execution_count": 72,
   "outputs": [
    {
     "data": {
      "text/plain": "tensor([[[1, 1, 1, 0],\n         [1, 1, 1, 0],\n         [1, 1, 1, 0],\n         [0, 0, 0, 0]],\n\n        [[1, 1, 0, 0],\n         [1, 1, 0, 0],\n         [0, 0, 0, 0],\n         [0, 0, 0, 0]]])"
     },
     "execution_count": 72,
     "metadata": {},
     "output_type": "execute_result"
    }
   ],
   "source": [
    "new_mask = rearrange(new_mask, '(b s) d -> b s d', b=2)\n",
    "new_mask"
   ],
   "metadata": {
    "collapsed": false,
    "pycharm": {
     "name": "#%%\n"
    }
   }
  },
  {
   "cell_type": "code",
   "execution_count": 73,
   "outputs": [
    {
     "data": {
      "text/plain": "torch.Size([2, 4, 4])"
     },
     "execution_count": 73,
     "metadata": {},
     "output_type": "execute_result"
    }
   ],
   "source": [
    "new_mask.shape"
   ],
   "metadata": {
    "collapsed": false,
    "pycharm": {
     "name": "#%%\n"
    }
   }
  },
  {
   "cell_type": "code",
   "execution_count": 50,
   "outputs": [
    {
     "data": {
      "text/plain": "tensor([[False, False, False,  True],\n        [False, False,  True,  True]])"
     },
     "execution_count": 50,
     "metadata": {},
     "output_type": "execute_result"
    }
   ],
   "source": [
    "mask_bool = mask == 0\n",
    "mask_bool"
   ],
   "metadata": {
    "collapsed": false,
    "pycharm": {
     "name": "#%%\n"
    }
   }
  },
  {
   "cell_type": "code",
   "execution_count": 74,
   "outputs": [
    {
     "data": {
      "text/plain": "tensor([[[False, False, False,  True],\n         [False, False, False,  True],\n         [False, False, False,  True],\n         [ True,  True,  True,  True]],\n\n        [[False, False,  True,  True],\n         [False, False,  True,  True],\n         [ True,  True,  True,  True],\n         [ True,  True,  True,  True]]])"
     },
     "execution_count": 74,
     "metadata": {},
     "output_type": "execute_result"
    }
   ],
   "source": [
    "new_mask_bool = new_mask == 0\n",
    "new_mask_bool"
   ],
   "metadata": {
    "collapsed": false,
    "pycharm": {
     "name": "#%%\n"
    }
   }
  },
  {
   "cell_type": "code",
   "execution_count": 51,
   "outputs": [],
   "source": [
    "mask_bool = rearrange(mask_bool, 'b s -> b 1 s ')"
   ],
   "metadata": {
    "collapsed": false,
    "pycharm": {
     "name": "#%%\n"
    }
   }
  },
  {
   "cell_type": "code",
   "execution_count": 52,
   "outputs": [
    {
     "data": {
      "text/plain": "torch.Size([2, 1, 4])"
     },
     "execution_count": 52,
     "metadata": {},
     "output_type": "execute_result"
    }
   ],
   "source": [
    "mask_bool.shape"
   ],
   "metadata": {
    "collapsed": false,
    "pycharm": {
     "name": "#%%\n"
    }
   }
  },
  {
   "cell_type": "code",
   "execution_count": 53,
   "outputs": [
    {
     "data": {
      "text/plain": "tensor([[[-1.5431e-01, -1.2521e+00,  1.0757e+00, -1.0000e+09],\n         [ 2.1931e+00,  7.4388e-01, -1.5934e-01, -1.0000e+09],\n         [-3.9102e-01, -7.1816e-01, -8.4231e-01, -1.0000e+09],\n         [ 2.2345e+00,  1.2266e+00,  6.5523e-01, -1.0000e+09]],\n\n        [[-4.9246e-01,  1.3059e-01, -1.0000e+09, -1.0000e+09],\n         [ 6.8946e-02, -2.5058e-01, -1.0000e+09, -1.0000e+09],\n         [ 2.6384e-01,  2.5302e-01, -1.0000e+09, -1.0000e+09],\n         [ 1.5330e+00, -4.9691e-01, -1.0000e+09, -1.0000e+09]]])"
     },
     "execution_count": 53,
     "metadata": {},
     "output_type": "execute_result"
    }
   ],
   "source": [
    "t_ = t.masked_fill(mask_bool, -1e9)\n",
    "t_"
   ],
   "metadata": {
    "collapsed": false,
    "pycharm": {
     "name": "#%%\n"
    }
   }
  },
  {
   "cell_type": "code",
   "execution_count": 78,
   "outputs": [
    {
     "data": {
      "text/plain": "torch.Size([2, 4, 4])"
     },
     "execution_count": 78,
     "metadata": {},
     "output_type": "execute_result"
    }
   ],
   "source": [
    "t_.shape"
   ],
   "metadata": {
    "collapsed": false,
    "pycharm": {
     "name": "#%%\n"
    }
   }
  },
  {
   "cell_type": "code",
   "execution_count": 75,
   "outputs": [
    {
     "data": {
      "text/plain": "tensor([[[-1.5431e-01, -1.2521e+00,  1.0757e+00, -1.0000e+09],\n         [ 2.1931e+00,  7.4388e-01, -1.5934e-01, -1.0000e+09],\n         [-3.9102e-01, -7.1816e-01, -8.4231e-01, -1.0000e+09],\n         [-1.0000e+09, -1.0000e+09, -1.0000e+09, -1.0000e+09]],\n\n        [[-4.9246e-01,  1.3059e-01, -1.0000e+09, -1.0000e+09],\n         [ 6.8946e-02, -2.5058e-01, -1.0000e+09, -1.0000e+09],\n         [-1.0000e+09, -1.0000e+09, -1.0000e+09, -1.0000e+09],\n         [-1.0000e+09, -1.0000e+09, -1.0000e+09, -1.0000e+09]]])"
     },
     "execution_count": 75,
     "metadata": {},
     "output_type": "execute_result"
    }
   ],
   "source": [
    "new_t = t.masked_fill(new_mask_bool, -1e9)\n",
    "new_t"
   ],
   "metadata": {
    "collapsed": false,
    "pycharm": {
     "name": "#%%\n"
    }
   }
  },
  {
   "cell_type": "code",
   "execution_count": 82,
   "outputs": [
    {
     "data": {
      "text/plain": "tensor([[[-0.4415, -0.0605,  0.8589,  0.7689, -0.6676],\n         [ 1.0560,  0.1637, -1.4993, -1.0977, -0.3597],\n         [ 1.0901, -0.7723,  0.5849,  1.3764,  0.3691],\n         [-1.5408, -0.2936,  1.8331, -0.2097,  0.7592]],\n\n        [[ 1.0063,  1.2804,  1.0638,  0.8085, -0.0765],\n         [-0.7015,  0.2348,  0.6436,  1.4058,  0.4843],\n         [ 0.2197, -0.0321,  0.9020,  0.3394, -0.8406],\n         [-0.2490,  0.5921,  0.6787, -1.4766,  0.3405]]])"
     },
     "execution_count": 82,
     "metadata": {},
     "output_type": "execute_result"
    }
   ],
   "source": [
    "value = torch.randn(size=(2, 4, 5))\n",
    "value"
   ],
   "metadata": {
    "collapsed": false,
    "pycharm": {
     "name": "#%%\n"
    }
   }
  },
  {
   "cell_type": "code",
   "execution_count": 83,
   "outputs": [
    {
     "data": {
      "text/plain": "torch.Size([2, 4, 5])"
     },
     "execution_count": 83,
     "metadata": {},
     "output_type": "execute_result"
    }
   ],
   "source": [
    "value.shape"
   ],
   "metadata": {
    "collapsed": false,
    "pycharm": {
     "name": "#%%\n"
    }
   }
  },
  {
   "cell_type": "code",
   "execution_count": 89,
   "outputs": [
    {
     "data": {
      "text/plain": "tensor([[[-0.4415, -0.0605,  0.8589,  0.7689, -0.6676],\n         [ 1.0560,  0.1637, -1.4993, -1.0977, -0.3597],\n         [ 1.0901, -0.7723,  0.5849,  1.3764,  0.3691],\n         [-1.5408, -0.2936,  1.8331, -0.2097,  0.7592]],\n\n        [[ 1.0063,  1.2804,  1.0638,  0.8085, -0.0765],\n         [-0.7015,  0.2348,  0.6436,  1.4058,  0.4843],\n         [ 0.2197, -0.0321,  0.9020,  0.3394, -0.8406],\n         [-0.2490,  0.5921,  0.6787, -1.4766,  0.3405]]])"
     },
     "execution_count": 89,
     "metadata": {},
     "output_type": "execute_result"
    }
   ],
   "source": [
    "value"
   ],
   "metadata": {
    "collapsed": false,
    "pycharm": {
     "name": "#%%\n"
    }
   }
  },
  {
   "cell_type": "code",
   "execution_count": 87,
   "outputs": [
    {
     "data": {
      "text/plain": "tensor([[[ 0.7656, -0.5569,  0.4963,  1.0751,  0.0999],\n         [-0.0676, -0.0718,  0.4231,  0.4828, -0.5391],\n         [ 0.4301, -0.1842,  0.0638,  0.3622, -0.2934],\n         [ 0.1073, -0.1018,  0.2751,  0.4149, -0.4600]],\n\n        [[-0.1054,  0.5998,  0.7903,  1.1973,  0.2885],\n         [ 0.2877,  0.8404,  0.8870,  1.0599,  0.1595],\n         [ 0.1570,  0.7604,  0.8548,  1.1056,  0.2024],\n         [ 0.8080,  1.1590,  1.0150,  0.8779, -0.0114]]])"
     },
     "execution_count": 87,
     "metadata": {},
     "output_type": "execute_result"
    }
   ],
   "source": [
    "result1 = torch.matmul(torch.softmax(t_, -1), value)\n",
    "result1"
   ],
   "metadata": {
    "collapsed": false,
    "pycharm": {
     "name": "#%%\n"
    }
   }
  },
  {
   "cell_type": "code",
   "execution_count": 88,
   "outputs": [
    {
     "data": {
      "text/plain": "tensor([[[ 0.7656, -0.5569,  0.4963,  1.0751,  0.0999],\n         [-0.0676, -0.0718,  0.4231,  0.4828, -0.5391],\n         [ 0.4301, -0.1842,  0.0638,  0.3622, -0.2934],\n         [ 0.0410, -0.2407,  0.4444,  0.2095,  0.0253]],\n\n        [[-0.1054,  0.5998,  0.7903,  1.1973,  0.2885],\n         [ 0.2877,  0.8404,  0.8870,  1.0599,  0.1595],\n         [ 0.0689,  0.5188,  0.8220,  0.2693, -0.0231],\n         [ 0.0689,  0.5188,  0.8220,  0.2693, -0.0231]]])"
     },
     "execution_count": 88,
     "metadata": {},
     "output_type": "execute_result"
    }
   ],
   "source": [
    "result2 = torch.matmul(torch.softmax(new_t, -1), value)\n",
    "result2"
   ],
   "metadata": {
    "collapsed": false,
    "pycharm": {
     "name": "#%%\n"
    }
   }
  },
  {
   "cell_type": "code",
   "execution_count": null,
   "outputs": [],
   "source": [],
   "metadata": {
    "collapsed": false,
    "pycharm": {
     "name": "#%%\n"
    }
   }
  }
 ],
 "metadata": {
  "kernelspec": {
   "display_name": "Python 3",
   "language": "python",
   "name": "python3"
  },
  "language_info": {
   "codemirror_mode": {
    "name": "ipython",
    "version": 2
   },
   "file_extension": ".py",
   "mimetype": "text/x-python",
   "name": "python",
   "nbconvert_exporter": "python",
   "pygments_lexer": "ipython2",
   "version": "2.7.6"
  }
 },
 "nbformat": 4,
 "nbformat_minor": 0
}